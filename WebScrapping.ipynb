{
 "cells": [
  {
   "cell_type": "code",
   "execution_count": 3,
   "metadata": {},
   "outputs": [],
   "source": [
    "from urllib.request import urlopen, Request"
   ]
  },
  {
   "cell_type": "code",
   "execution_count": 77,
   "metadata": {},
   "outputs": [],
   "source": [
    "from bs4 import BeautifulSoup\n",
    "import pandas as pd\n",
    "from nltk.sentiment.vader import SentimentIntensityAnalyzer\n",
    "import nltk"
   ]
  },
  {
   "cell_type": "code",
   "execution_count": 98,
   "metadata": {},
   "outputs": [],
   "source": [
    "from matplotlib import pyplot as plt"
   ]
  },
  {
   "cell_type": "code",
   "execution_count": 78,
   "metadata": {},
   "outputs": [
    {
     "name": "stderr",
     "output_type": "stream",
     "text": [
      "[nltk_data] Downloading package vader_lexicon to\n",
      "[nltk_data]     C:\\Users\\vivek\\AppData\\Roaming\\nltk_data...\n"
     ]
    },
    {
     "data": {
      "text/plain": [
       "True"
      ]
     },
     "execution_count": 78,
     "metadata": {},
     "output_type": "execute_result"
    }
   ],
   "source": [
    "nltk.download('vader_lexicon')"
   ]
  },
  {
   "cell_type": "code",
   "execution_count": 9,
   "metadata": {},
   "outputs": [],
   "source": [
    "finviz_url = \"https://finviz.com/quote.ashx?t=\"\n",
    "tickers = [\"AMZN\", \"FB\", \"GOOG\"]"
   ]
  },
  {
   "cell_type": "code",
   "execution_count": 20,
   "metadata": {},
   "outputs": [],
   "source": [
    "news_tables = {}"
   ]
  },
  {
   "cell_type": "code",
   "execution_count": 34,
   "metadata": {},
   "outputs": [],
   "source": [
    "for ticker in tickers:\n",
    "    url = finviz_url + ticker\n",
    "    \n",
    "    req = Request(url = url, headers = {'user-agent': 'educational'})\n",
    "    response = urlopen(req)\n",
    "    \n",
    "    html = BeautifulSoup(response, 'html')\n",
    "    news_table = html.find(id='news-table')\n",
    "    news_tables[ticker]=news_table\n",
    "    \n",
    "    \n",
    "    "
   ]
  },
  {
   "cell_type": "code",
   "execution_count": 63,
   "metadata": {},
   "outputs": [],
   "source": [
    "parsed_data = []\n",
    "for ticker, news_table in news_tables.items():\n",
    "    for row in news_table.findAll('tr'):\n",
    "\n",
    "        title = row.a.text\n",
    "        timestamp = row.td.text.split(' ')\n",
    "        \n",
    "        if len(timestamp) == 1:\n",
    "            time = timestamp[0][0:7]\n",
    "        else :\n",
    "            date = timestamp[0]\n",
    "            time = timestamp[1][0:7]\n",
    "\n",
    "        parsed_data.append([ticker, date, time, title])"
   ]
  },
  {
   "cell_type": "code",
   "execution_count": 68,
   "metadata": {},
   "outputs": [],
   "source": [
    "#parsed_data"
   ]
  },
  {
   "cell_type": "code",
   "execution_count": 65,
   "metadata": {},
   "outputs": [],
   "source": [
    "#for index, row in enumerate(amazon_rows):\n",
    " #   title = row.a.text\n",
    "  #  timestamp = row.td.text\n",
    "   # print(timestamp, ': ', title)\n",
    "    "
   ]
  },
  {
   "cell_type": "code",
   "execution_count": 107,
   "metadata": {},
   "outputs": [],
   "source": [
    "df = pd.DataFrame(parsed_data, columns = ['ticker', 'date', 'time', 'title'])"
   ]
  },
  {
   "cell_type": "code",
   "execution_count": 108,
   "metadata": {},
   "outputs": [
    {
     "data": {
      "text/html": [
       "<div>\n",
       "<style scoped>\n",
       "    .dataframe tbody tr th:only-of-type {\n",
       "        vertical-align: middle;\n",
       "    }\n",
       "\n",
       "    .dataframe tbody tr th {\n",
       "        vertical-align: top;\n",
       "    }\n",
       "\n",
       "    .dataframe thead th {\n",
       "        text-align: right;\n",
       "    }\n",
       "</style>\n",
       "<table border=\"1\" class=\"dataframe\">\n",
       "  <thead>\n",
       "    <tr style=\"text-align: right;\">\n",
       "      <th></th>\n",
       "      <th>ticker</th>\n",
       "      <th>date</th>\n",
       "      <th>time</th>\n",
       "      <th>title</th>\n",
       "    </tr>\n",
       "  </thead>\n",
       "  <tbody>\n",
       "    <tr>\n",
       "      <th>0</th>\n",
       "      <td>AMZN</td>\n",
       "      <td>Jun-29-21</td>\n",
       "      <td>03:35PM</td>\n",
       "      <td>Is Amazon Stock A Buy Right Now? Here's What E...</td>\n",
       "    </tr>\n",
       "    <tr>\n",
       "      <th>1</th>\n",
       "      <td>AMZN</td>\n",
       "      <td>Jun-29-21</td>\n",
       "      <td>02:13PM</td>\n",
       "      <td>Amazon scoops up exclusive rights to celebrity...</td>\n",
       "    </tr>\n",
       "    <tr>\n",
       "      <th>2</th>\n",
       "      <td>AMZN</td>\n",
       "      <td>Jun-29-21</td>\n",
       "      <td>02:12PM</td>\n",
       "      <td>What Facebooks antitrust win means for big tech</td>\n",
       "    </tr>\n",
       "    <tr>\n",
       "      <th>3</th>\n",
       "      <td>AMZN</td>\n",
       "      <td>Jun-29-21</td>\n",
       "      <td>02:06PM</td>\n",
       "      <td>Facebook Got a Big Win, but  Megacap Regulator...</td>\n",
       "    </tr>\n",
       "    <tr>\n",
       "      <th>4</th>\n",
       "      <td>AMZN</td>\n",
       "      <td>Jun-29-21</td>\n",
       "      <td>01:57PM</td>\n",
       "      <td>U.S., European suppliers scramble to secure Ch...</td>\n",
       "    </tr>\n",
       "    <tr>\n",
       "      <th>...</th>\n",
       "      <td>...</td>\n",
       "      <td>...</td>\n",
       "      <td>...</td>\n",
       "      <td>...</td>\n",
       "    </tr>\n",
       "    <tr>\n",
       "      <th>295</th>\n",
       "      <td>GOOG</td>\n",
       "      <td>Jun-24-21</td>\n",
       "      <td>05:46PM</td>\n",
       "      <td>Microsoft Opens Windows, But Reverts to Old Co...</td>\n",
       "    </tr>\n",
       "    <tr>\n",
       "      <th>296</th>\n",
       "      <td>GOOG</td>\n",
       "      <td>Jun-24-21</td>\n",
       "      <td>05:38PM</td>\n",
       "      <td>Instagram Tests Letting Users Post to Feeds fr...</td>\n",
       "    </tr>\n",
       "    <tr>\n",
       "      <th>297</th>\n",
       "      <td>GOOG</td>\n",
       "      <td>Jun-24-21</td>\n",
       "      <td>04:48PM</td>\n",
       "      <td>10 Medical Device Stocks for 2021</td>\n",
       "    </tr>\n",
       "    <tr>\n",
       "      <th>298</th>\n",
       "      <td>GOOG</td>\n",
       "      <td>Jun-24-21</td>\n",
       "      <td>04:42PM</td>\n",
       "      <td>Microsoft closes trading with a $2 trillion ma...</td>\n",
       "    </tr>\n",
       "    <tr>\n",
       "      <th>299</th>\n",
       "      <td>GOOG</td>\n",
       "      <td>Jun-24-21</td>\n",
       "      <td>04:31PM</td>\n",
       "      <td>House panel advances sixth and final bill as f...</td>\n",
       "    </tr>\n",
       "  </tbody>\n",
       "</table>\n",
       "<p>300 rows × 4 columns</p>\n",
       "</div>"
      ],
      "text/plain": [
       "    ticker       date     time  \\\n",
       "0     AMZN  Jun-29-21  03:35PM   \n",
       "1     AMZN  Jun-29-21  02:13PM   \n",
       "2     AMZN  Jun-29-21  02:12PM   \n",
       "3     AMZN  Jun-29-21  02:06PM   \n",
       "4     AMZN  Jun-29-21  01:57PM   \n",
       "..     ...        ...      ...   \n",
       "295   GOOG  Jun-24-21  05:46PM   \n",
       "296   GOOG  Jun-24-21  05:38PM   \n",
       "297   GOOG  Jun-24-21  04:48PM   \n",
       "298   GOOG  Jun-24-21  04:42PM   \n",
       "299   GOOG  Jun-24-21  04:31PM   \n",
       "\n",
       "                                                 title  \n",
       "0    Is Amazon Stock A Buy Right Now? Here's What E...  \n",
       "1    Amazon scoops up exclusive rights to celebrity...  \n",
       "2      What Facebooks antitrust win means for big tech  \n",
       "3    Facebook Got a Big Win, but  Megacap Regulator...  \n",
       "4    U.S., European suppliers scramble to secure Ch...  \n",
       "..                                                 ...  \n",
       "295  Microsoft Opens Windows, But Reverts to Old Co...  \n",
       "296  Instagram Tests Letting Users Post to Feeds fr...  \n",
       "297                  10 Medical Device Stocks for 2021  \n",
       "298  Microsoft closes trading with a $2 trillion ma...  \n",
       "299  House panel advances sixth and final bill as f...  \n",
       "\n",
       "[300 rows x 4 columns]"
      ]
     },
     "execution_count": 108,
     "metadata": {},
     "output_type": "execute_result"
    }
   ],
   "source": [
    "df"
   ]
  },
  {
   "cell_type": "code",
   "execution_count": 109,
   "metadata": {},
   "outputs": [],
   "source": [
    "vader = SentimentIntensityAnalyzer()"
   ]
  },
  {
   "cell_type": "code",
   "execution_count": 110,
   "metadata": {},
   "outputs": [
    {
     "data": {
      "text/plain": [
       "{'neg': 0.0, 'neu': 0.686, 'pos': 0.314, 'compound': 0.296}"
      ]
     },
     "execution_count": 110,
     "metadata": {},
     "output_type": "execute_result"
    }
   ],
   "source": [
    "vader.polarity_scores(df.title[1])"
   ]
  },
  {
   "cell_type": "code",
   "execution_count": 111,
   "metadata": {},
   "outputs": [],
   "source": [
    "df['compound'] = df['title'].apply(lambda title: vader.polarity_scores(title)['compound'] )\n"
   ]
  },
  {
   "cell_type": "code",
   "execution_count": 90,
   "metadata": {},
   "outputs": [],
   "source": [
    "\n",
    "#df['neutral'] = df['title'].apply(lambda title: vader.polarity_scores(title)['neu'] )\n",
    "#df['negative'] = df['title'].apply(lambda title: vader.polarity_scores(title)['pos'] )\n",
    "#df['positive'] = df['title'].apply(lambda title: vader.polarity_scores(title)['neg'] )"
   ]
  },
  {
   "cell_type": "code",
   "execution_count": 112,
   "metadata": {},
   "outputs": [
    {
     "data": {
      "text/html": [
       "<div>\n",
       "<style scoped>\n",
       "    .dataframe tbody tr th:only-of-type {\n",
       "        vertical-align: middle;\n",
       "    }\n",
       "\n",
       "    .dataframe tbody tr th {\n",
       "        vertical-align: top;\n",
       "    }\n",
       "\n",
       "    .dataframe thead th {\n",
       "        text-align: right;\n",
       "    }\n",
       "</style>\n",
       "<table border=\"1\" class=\"dataframe\">\n",
       "  <thead>\n",
       "    <tr style=\"text-align: right;\">\n",
       "      <th></th>\n",
       "      <th>ticker</th>\n",
       "      <th>date</th>\n",
       "      <th>time</th>\n",
       "      <th>title</th>\n",
       "      <th>compound</th>\n",
       "    </tr>\n",
       "  </thead>\n",
       "  <tbody>\n",
       "    <tr>\n",
       "      <th>0</th>\n",
       "      <td>AMZN</td>\n",
       "      <td>Jun-29-21</td>\n",
       "      <td>03:35PM</td>\n",
       "      <td>Is Amazon Stock A Buy Right Now? Here's What E...</td>\n",
       "      <td>0.1779</td>\n",
       "    </tr>\n",
       "    <tr>\n",
       "      <th>1</th>\n",
       "      <td>AMZN</td>\n",
       "      <td>Jun-29-21</td>\n",
       "      <td>02:13PM</td>\n",
       "      <td>Amazon scoops up exclusive rights to celebrity...</td>\n",
       "      <td>0.2960</td>\n",
       "    </tr>\n",
       "    <tr>\n",
       "      <th>2</th>\n",
       "      <td>AMZN</td>\n",
       "      <td>Jun-29-21</td>\n",
       "      <td>02:12PM</td>\n",
       "      <td>What Facebooks antitrust win means for big tech</td>\n",
       "      <td>0.5859</td>\n",
       "    </tr>\n",
       "    <tr>\n",
       "      <th>3</th>\n",
       "      <td>AMZN</td>\n",
       "      <td>Jun-29-21</td>\n",
       "      <td>02:06PM</td>\n",
       "      <td>Facebook Got a Big Win, but  Megacap Regulator...</td>\n",
       "      <td>-0.2500</td>\n",
       "    </tr>\n",
       "    <tr>\n",
       "      <th>4</th>\n",
       "      <td>AMZN</td>\n",
       "      <td>Jun-29-21</td>\n",
       "      <td>01:57PM</td>\n",
       "      <td>U.S., European suppliers scramble to secure Ch...</td>\n",
       "      <td>-0.2263</td>\n",
       "    </tr>\n",
       "  </tbody>\n",
       "</table>\n",
       "</div>"
      ],
      "text/plain": [
       "  ticker       date     time  \\\n",
       "0   AMZN  Jun-29-21  03:35PM   \n",
       "1   AMZN  Jun-29-21  02:13PM   \n",
       "2   AMZN  Jun-29-21  02:12PM   \n",
       "3   AMZN  Jun-29-21  02:06PM   \n",
       "4   AMZN  Jun-29-21  01:57PM   \n",
       "\n",
       "                                               title  compound  \n",
       "0  Is Amazon Stock A Buy Right Now? Here's What E...    0.1779  \n",
       "1  Amazon scoops up exclusive rights to celebrity...    0.2960  \n",
       "2    What Facebooks antitrust win means for big tech    0.5859  \n",
       "3  Facebook Got a Big Win, but  Megacap Regulator...   -0.2500  \n",
       "4  U.S., European suppliers scramble to secure Ch...   -0.2263  "
      ]
     },
     "execution_count": 112,
     "metadata": {},
     "output_type": "execute_result"
    }
   ],
   "source": [
    "df.head()"
   ]
  },
  {
   "cell_type": "code",
   "execution_count": 113,
   "metadata": {},
   "outputs": [],
   "source": [
    "df['date'] = pd.to_datetime(df.date).dt.date"
   ]
  },
  {
   "cell_type": "code",
   "execution_count": 114,
   "metadata": {},
   "outputs": [
    {
     "data": {
      "text/plain": [
       "<Figure size 720x576 with 0 Axes>"
      ]
     },
     "metadata": {},
     "output_type": "display_data"
    }
   ],
   "source": [
    "plt.figure(figsize = (10, 8))\n",
    "\n",
    "mean_df = df.groupby(['ticker', 'date']).mean()"
   ]
  },
  {
   "cell_type": "code",
   "execution_count": 115,
   "metadata": {},
   "outputs": [
    {
     "name": "stdout",
     "output_type": "stream",
     "text": [
      "                   compound\n",
      "ticker date                \n",
      "AMZN   2021-06-24  0.216142\n",
      "       2021-06-25  0.155691\n",
      "       2021-06-26  0.216775\n",
      "       2021-06-27  0.194700\n",
      "       2021-06-28  0.149954\n",
      "       2021-06-29  0.231350\n",
      "FB     2021-06-23  0.114771\n",
      "       2021-06-24  0.161844\n",
      "       2021-06-25  0.109978\n",
      "       2021-06-26  0.529200\n",
      "       2021-06-27 -0.006825\n",
      "       2021-06-28  0.167490\n",
      "       2021-06-29  0.070468\n",
      "GOOG   2021-06-24 -0.027017\n",
      "       2021-06-25  0.070282\n",
      "       2021-06-26  0.163483\n",
      "       2021-06-27  0.182667\n",
      "       2021-06-28  0.062288\n",
      "       2021-06-29  0.117600\n"
     ]
    }
   ],
   "source": [
    "print(mean_df)"
   ]
  },
  {
   "cell_type": "code",
   "execution_count": 116,
   "metadata": {},
   "outputs": [],
   "source": [
    "mean_df = mean_df.unstack()\n",
    "mean_df = mean_df.xs('compound', axis = 'columns').transpose()"
   ]
  },
  {
   "cell_type": "code",
   "execution_count": 118,
   "metadata": {},
   "outputs": [
    {
     "data": {
      "text/plain": [
       "<AxesSubplot:xlabel='date'>"
      ]
     },
     "execution_count": 118,
     "metadata": {},
     "output_type": "execute_result"
    },
    {
     "data": {
      "image/png": "[encoded data removed]",
      "text/plain": [
       "<Figure size 432x288 with 1 Axes>"
      ]
     },
     "metadata": {
      "needs_background": "light"
     },
     "output_type": "display_data"
    }
   ],
   "source": [
    "mean_df.plot(kind= 'bar')"
   ]
  },
  {
   "cell_type": "code",
   "execution_count": null,
   "metadata": {},
   "outputs": [],
   "source": []
  }
 ],
 "metadata": {
  "kernelspec": {
   "display_name": "Python 3",
   "language": "python",
   "name": "python3"
  },
  "language_info": {
   "codemirror_mode": {
    "name": "ipython",
    "version": 3
   },
   "file_extension": ".py",
   "mimetype": "text/x-python",
   "name": "python",
   "nbconvert_exporter": "python",
   "pygments_lexer": "ipython3",
   "version": "3.8.5"
  }
 },
 "nbformat": 4,
 "nbformat_minor": 4
}
